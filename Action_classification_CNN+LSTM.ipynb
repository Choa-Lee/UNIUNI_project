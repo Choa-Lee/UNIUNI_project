{
  "nbformat": 4,
  "nbformat_minor": 0,
  "metadata": {
    "colab": {
      "name": "Action_classification_CNN+LSTM.ipynb",
      "provenance": [],
      "toc_visible": true,
      "mount_file_id": "1oyIYcBQHwYt3XdV7hF9vG814zDFS5l8b",
      "authorship_tag": "ABX9TyOkZ1D3UD04uNV3Zj8nklcs",
      "include_colab_link": true
    },
    "kernelspec": {
      "name": "python3",
      "display_name": "Python 3"
    },
    "accelerator": "GPU"
  },
  "cells": [
    {
      "cell_type": "markdown",
      "metadata": {
        "id": "view-in-github",
        "colab_type": "text"
      },
      "source": [
        "<a href=\"https://colab.research.google.com/github/Choa-Lee/UNIUNI_project/blob/master/Action_classification_CNN%2BLSTM.ipynb\" target=\"_parent\"><img src=\"https://colab.research.google.com/assets/colab-badge.svg\" alt=\"Open In Colab\"/></a>"
      ]
    },
    {
      "cell_type": "markdown",
      "metadata": {
        "id": "N7zXip7QX9f7",
        "colab_type": "text"
      },
      "source": [
        "#Abnormal action classification using CNN+LSTM\n",
        "## Last revised by cho : 20.08.02"
      ]
    },
    {
      "cell_type": "markdown",
      "metadata": {
        "id": "NdElU2E_YuZs",
        "colab_type": "text"
      },
      "source": [
        "# Setting Environment"
      ]
    },
    {
      "cell_type": "code",
      "metadata": {
        "id": "6_-9cRz_cfGj",
        "colab_type": "code",
        "colab": {
          "base_uri": "https://localhost:8080/",
          "height": 52
        },
        "outputId": "b7c973ce-414f-4d30-e21c-1cd8ae16493e"
      },
      "source": [
        "%cd /content/drive/My Drive/WISET/UNI_project/data\n",
        "!pwd"
      ],
      "execution_count": 37,
      "outputs": [
        {
          "output_type": "stream",
          "text": [
            "/content/drive/My Drive/WISET/UNI_project/data\n",
            "/content/drive/My Drive/WISET/UNI_project/data\n"
          ],
          "name": "stdout"
        }
      ]
    },
    {
      "cell_type": "code",
      "metadata": {
        "id": "MWPP3E4jX3Wv",
        "colab_type": "code",
        "colab": {}
      },
      "source": [
        "import os\n",
        "import glob\n",
        "import numpy as np\n",
        "import cv2"
      ],
      "execution_count": 38,
      "outputs": []
    },
    {
      "cell_type": "code",
      "metadata": {
        "id": "DF-ZbPhUZA8A",
        "colab_type": "code",
        "colab": {
          "base_uri": "https://localhost:8080/",
          "height": 34
        },
        "outputId": "710fed75-ba18-4996-94c9-667c7d4bbb8a"
      },
      "source": [
        "path = os.getcwd()\n",
        "print(path)\n",
        "\n",
        "all_data_path = path+'/img'\n",
        "normal_data_path = path+'/label_normal'\n",
        "abnormal1_data_path = path+'/label_abnormal1'\n",
        "abnormal2_data_path = path+'/label_abnormal2'\n",
        "\n",
        "Class = ['normal', 'abnormal1', 'abnormal2']\n",
        "nClasses = len(Class)"
      ],
      "execution_count": 39,
      "outputs": [
        {
          "output_type": "stream",
          "text": [
            "/content/drive/My Drive/WISET/UNI_project/data\n"
          ],
          "name": "stdout"
        }
      ]
    },
    {
      "cell_type": "code",
      "metadata": {
        "id": "vphFZYPycFFo",
        "colab_type": "code",
        "colab": {}
      },
      "source": [
        "file_list = glob.glob(all_data_path+'/*')\n",
        "file_list_jpg = [file for file in file_list if file.endswith(\".jpg\")]\n",
        "\n",
        "normal_list = glob.glob(normal_data_path+'/*')\n",
        "normal_list_jpg = [file for file in normal_list if file.endswith(\".jpg\")]\n",
        "\n",
        "abnormal1_list = glob.glob(abnormal1_data_path+'/*')\n",
        "abnormal1_list_jpg = [file for file in abnormal1_list if file.endswith(\".jpg\")]\n",
        "\n",
        "abnormal2_list = glob.glob(abnormal2_data_path+'/*')\n",
        "abnormal2_list_jpg = [file for file in abnormal2_list if file.endswith(\".jpg\")]"
      ],
      "execution_count": 40,
      "outputs": []
    },
    {
      "cell_type": "code",
      "metadata": {
        "id": "21Srsx1zdjjn",
        "colab_type": "code",
        "colab": {
          "base_uri": "https://localhost:8080/",
          "height": 106
        },
        "outputId": "86e4b1c9-f4e9-4e94-e46d-a61cfa1a21f0"
      },
      "source": [
        "print(len(file_list_jpg))\n",
        "print(len(normal_list_jpg))\n",
        "print(len(abnormal1_list_jpg))\n",
        "print(len(abnormal2_list_jpg))\n",
        "print(len(normal_list_jpg) + len(abnormal1_list_jpg) + len(abnormal2_list_jpg))"
      ],
      "execution_count": 41,
      "outputs": [
        {
          "output_type": "stream",
          "text": [
            "11320\n",
            "5488\n",
            "2385\n",
            "3451\n",
            "11324\n"
          ],
          "name": "stdout"
        }
      ]
    },
    {
      "cell_type": "markdown",
      "metadata": {
        "id": "jtJnd6pigflp",
        "colab_type": "text"
      },
      "source": [
        "# Load Data"
      ]
    },
    {
      "cell_type": "code",
      "metadata": {
        "id": "wouaU7Zbgdf1",
        "colab_type": "code",
        "colab": {
          "base_uri": "https://localhost:8080/",
          "height": 142
        },
        "outputId": "7965acb5-9833-4515-bed8-d09f08ea3154"
      },
      "source": [
        "data = []; labels = []\n",
        "nfiles=2381\n",
        "\n",
        "for image_path in normal_list_jpg:\n",
        "  while len(labels) < int(nfiles):\n",
        "    image = cv2.imread(image_path)\n",
        "    image/255\n",
        "    # image=image.reshape(image.shape[0]*image.shape[1],image.shape[2])\n",
        "    label = Class[0]\n",
        "\n",
        "    data.append(image)\n",
        "    labels.append(label)\n",
        "\n",
        "print(len(data))\n",
        "print(len(labels))\n",
        "\n",
        "for image_path in abnormal1_list_jpg:\n",
        "  while len(labels) < int(nfiles*2):\n",
        "    image = cv2.imread(image_path)\n",
        "    image/255\n",
        "    # image=image.reshape(image.shape[0]*image.shape[1],image.shape[2])\n",
        "    label = Class[1]\n",
        "\n",
        "    data.append(image)\n",
        "    labels.append(label)\n",
        "\n",
        "print(len(data))\n",
        "print(len(labels))\n",
        "\n",
        "for image_path in abnormal2_list_jpg:\n",
        "  while len(labels) < int(nfiles*3):\n",
        "    image = cv2.imread(image_path)\n",
        "    image/255\n",
        "    # image=image.reshape(image.shape[0]*image.shape[1],image.shape[2])\n",
        "    label = Class[2]\n",
        "\n",
        "    data.append(image)\n",
        "    labels.append(label)\n",
        "\n",
        "print(len(data))\n",
        "print(len(labels))\n",
        "\n",
        "print(np.shape(image))"
      ],
      "execution_count": 42,
      "outputs": [
        {
          "output_type": "stream",
          "text": [
            "2381\n",
            "2381\n",
            "4762\n",
            "4762\n",
            "7143\n",
            "7143\n",
            "(60, 80, 3)\n"
          ],
          "name": "stdout"
        }
      ]
    },
    {
      "cell_type": "code",
      "metadata": {
        "id": "Sot9DQIib9Vx",
        "colab_type": "code",
        "colab": {}
      },
      "source": [
        "from sklearn.preprocessing import LabelBinarizer\n",
        "from sklearn.model_selection import train_test_split\n",
        "\n",
        "from tensorflow import keras\n",
        "from tensorflow.keras.models import Sequential\n",
        "from tensorflow.keras.applications import ResNet50\n",
        "\n",
        "from tensorflow.keras import optimizers\n",
        "from tensorflow.keras.layers import Input, Reshape, Conv2D, Activation, MaxPooling2D, Dense, Flatten\n",
        "from tensorflow.keras.layers import LSTM, TimeDistributed, Dropout "
      ],
      "execution_count": 43,
      "outputs": []
    },
    {
      "cell_type": "code",
      "metadata": {
        "id": "tpHFg3RFkuD1",
        "colab_type": "code",
        "colab": {}
      },
      "source": [
        "data = np.array(data)\n",
        "labels = np.array(labels)\n",
        "\n",
        "lb = LabelBinarizer()\n",
        "labels = lb.fit_transform(labels)"
      ],
      "execution_count": 44,
      "outputs": []
    },
    {
      "cell_type": "code",
      "metadata": {
        "id": "XRPq832UnkDw",
        "colab_type": "code",
        "colab": {
          "base_uri": "https://localhost:8080/",
          "height": 34
        },
        "outputId": "82f30a21-3f97-4c5d-8944-58c5e738a22c"
      },
      "source": [
        "print(np.shape(data))"
      ],
      "execution_count": 45,
      "outputs": [
        {
          "output_type": "stream",
          "text": [
            "(7143, 60, 80, 3)\n"
          ],
          "name": "stdout"
        }
      ]
    },
    {
      "cell_type": "code",
      "metadata": {
        "id": "sS2-7B5xkz46",
        "colab_type": "code",
        "colab": {}
      },
      "source": [
        "(train_x, test_x, train_y, test_y) = train_test_split(data, labels, test_size=0.25, \n",
        "                                                  stratify=labels, random_state=42)"
      ],
      "execution_count": 46,
      "outputs": []
    },
    {
      "cell_type": "code",
      "metadata": {
        "id": "W2_Wd8ncaiDn",
        "colab_type": "code",
        "colab": {
          "base_uri": "https://localhost:8080/",
          "height": 106
        },
        "outputId": "0b3a6ddb-051e-4338-b703-ae1c51ccf52e"
      },
      "source": [
        "# image = cv2.imread(abnormal2_list[0])\n",
        "print(np.shape(image))\n",
        "print(np.shape(train_x))\n",
        "print(np.shape(test_x))\n",
        "print(np.shape(train_y))\n",
        "print(np.shape(test_y))"
      ],
      "execution_count": 47,
      "outputs": [
        {
          "output_type": "stream",
          "text": [
            "(60, 80, 3)\n",
            "(5357, 60, 80, 3)\n",
            "(1786, 60, 80, 3)\n",
            "(5357, 3)\n",
            "(1786, 3)\n"
          ],
          "name": "stdout"
        }
      ]
    },
    {
      "cell_type": "markdown",
      "metadata": {
        "id": "QPC8_CvacT8W",
        "colab_type": "text"
      },
      "source": [
        "# Model\n"
      ]
    },
    {
      "cell_type": "markdown",
      "metadata": {
        "id": "riurErkidzs5",
        "colab_type": "text"
      },
      "source": [
        "##CNN-LSTM\n"
      ]
    },
    {
      "cell_type": "code",
      "metadata": {
        "id": "j8lFer1XlTa4",
        "colab_type": "code",
        "colab": {
          "base_uri": "https://localhost:8080/",
          "height": 446
        },
        "outputId": "59ded4e5-2b97-49ef-fc88-7b528ed7f0ac"
      },
      "source": [
        "model = Sequential()\n",
        "model.add(Conv2D(filters=32, kernel_size=(2,2), strides = (1,1), padding = 'same',\n",
        "                 input_shape = (train_x.shape[1],train_x.shape[2],train_x.shape[3])))\n",
        "model.add(Activation('relu'))\n",
        "model.add(MaxPooling2D(pool_size=(2,2)))\n",
        "model.add(Reshape(target_shape=(30*40, 32)))\n",
        "model.add(LSTM(50, return_sequences = False))\n",
        "\n",
        "model.add(Dense(10))\n",
        "model.add(Dense(3))\n",
        "model.add(Activation('softmax'))\n",
        "\n",
        "adam = optimizers.Adam(lr = 0.001)\n",
        "model.compile(loss = 'categorical_crossentropy', optimizer = adam, metrics = ['accuracy'])\n",
        "\n",
        "model.summary()"
      ],
      "execution_count": 48,
      "outputs": [
        {
          "output_type": "stream",
          "text": [
            "Model: \"sequential_5\"\n",
            "_________________________________________________________________\n",
            "Layer (type)                 Output Shape              Param #   \n",
            "=================================================================\n",
            "conv2d_5 (Conv2D)            (None, 60, 80, 32)        416       \n",
            "_________________________________________________________________\n",
            "activation_10 (Activation)   (None, 60, 80, 32)        0         \n",
            "_________________________________________________________________\n",
            "max_pooling2d_5 (MaxPooling2 (None, 30, 40, 32)        0         \n",
            "_________________________________________________________________\n",
            "reshape_5 (Reshape)          (None, 1200, 32)          0         \n",
            "_________________________________________________________________\n",
            "lstm_5 (LSTM)                (None, 50)                16600     \n",
            "_________________________________________________________________\n",
            "dense_9 (Dense)              (None, 10)                510       \n",
            "_________________________________________________________________\n",
            "dense_10 (Dense)             (None, 3)                 33        \n",
            "_________________________________________________________________\n",
            "activation_11 (Activation)   (None, 3)                 0         \n",
            "=================================================================\n",
            "Total params: 17,559\n",
            "Trainable params: 17,559\n",
            "Non-trainable params: 0\n",
            "_________________________________________________________________\n"
          ],
          "name": "stdout"
        }
      ]
    },
    {
      "cell_type": "code",
      "metadata": {
        "id": "3nTqIeWqb-gK",
        "colab_type": "code",
        "colab": {}
      },
      "source": [
        "import matplotlib.pyplot as plt"
      ],
      "execution_count": 49,
      "outputs": []
    },
    {
      "cell_type": "code",
      "metadata": {
        "id": "JmAjvru0ythb",
        "colab_type": "code",
        "colab": {
          "base_uri": "https://localhost:8080/",
          "height": 446
        },
        "outputId": "84c15860-f021-4838-ceee-50625cad9669"
      },
      "source": [
        "model = Sequential()\n",
        "model.add(Conv2D(filters=32, kernel_size=(2,2), strides = (1,1), padding = 'same',\n",
        "                 input_shape = (train_x.shape[1],train_x.shape[2],train_x.shape[3])))\n",
        "model.add(Activation('relu'))\n",
        "model.add(MaxPooling2D(pool_size=(2,2)))\n",
        "model.add(Reshape(target_shape=(30*40, 32)))\n",
        "model.add(LSTM(50, return_sequences = False))\n",
        "\n",
        "model.add(Dense(10))\n",
        "model.add(Dense(3))\n",
        "model.add(Activation('softmax'))\n",
        "\n",
        "adam = optimizers.Adam(lr = 0.001)\n",
        "model.compile(loss = 'categorical_crossentropy', optimizer = adam, metrics = ['accuracy'])\n",
        "\n",
        "model.summary()"
      ],
      "execution_count": 51,
      "outputs": [
        {
          "output_type": "stream",
          "text": [
            "Model: \"sequential_6\"\n",
            "_________________________________________________________________\n",
            "Layer (type)                 Output Shape              Param #   \n",
            "=================================================================\n",
            "conv2d_6 (Conv2D)            (None, 60, 80, 32)        416       \n",
            "_________________________________________________________________\n",
            "activation_12 (Activation)   (None, 60, 80, 32)        0         \n",
            "_________________________________________________________________\n",
            "max_pooling2d_6 (MaxPooling2 (None, 30, 40, 32)        0         \n",
            "_________________________________________________________________\n",
            "reshape_6 (Reshape)          (None, 1200, 32)          0         \n",
            "_________________________________________________________________\n",
            "lstm_6 (LSTM)                (None, 50)                16600     \n",
            "_________________________________________________________________\n",
            "dense_11 (Dense)             (None, 10)                510       \n",
            "_________________________________________________________________\n",
            "dense_12 (Dense)             (None, 3)                 33        \n",
            "_________________________________________________________________\n",
            "activation_13 (Activation)   (None, 3)                 0         \n",
            "=================================================================\n",
            "Total params: 17,559\n",
            "Trainable params: 17,559\n",
            "Non-trainable params: 0\n",
            "_________________________________________________________________\n"
          ],
          "name": "stdout"
        }
      ]
    },
    {
      "cell_type": "code",
      "metadata": {
        "id": "AWQ_X2x53qSi",
        "colab_type": "code",
        "colab": {
          "base_uri": "https://localhost:8080/",
          "height": 641
        },
        "outputId": "c00a4648-fac2-4ae0-e052-1dcdd988eba2"
      },
      "source": [
        "history = model.fit(train_x, train_y, validation_data=(test_x, test_y), epochs=10, batch_size=100, verbose=1)\n",
        "# loss, acc = model.evaluate(test_x, test_y)\n",
        "\n",
        "\n",
        "plt.plot(history.history['loss'],label='train_loss')\n",
        "plt.plot(history.history['val_loss'],label='test_loss')"
      ],
      "execution_count": 52,
      "outputs": [
        {
          "output_type": "stream",
          "text": [
            "Epoch 1/10\n",
            "54/54 [==============================] - 4s 69ms/step - loss: 0.4295 - accuracy: 0.9606 - val_loss: 0.1471 - val_accuracy: 1.0000\n",
            "Epoch 2/10\n",
            "54/54 [==============================] - 3s 63ms/step - loss: 0.0791 - accuracy: 1.0000 - val_loss: 0.0391 - val_accuracy: 1.0000\n",
            "Epoch 3/10\n",
            "54/54 [==============================] - 3s 63ms/step - loss: 0.0268 - accuracy: 1.0000 - val_loss: 0.0176 - val_accuracy: 1.0000\n",
            "Epoch 4/10\n",
            "54/54 [==============================] - 3s 63ms/step - loss: 0.0126 - accuracy: 1.0000 - val_loss: 0.0085 - val_accuracy: 1.0000\n",
            "Epoch 5/10\n",
            "54/54 [==============================] - 3s 63ms/step - loss: 0.0065 - accuracy: 1.0000 - val_loss: 0.0050 - val_accuracy: 1.0000\n",
            "Epoch 6/10\n",
            "54/54 [==============================] - 3s 63ms/step - loss: 0.0042 - accuracy: 1.0000 - val_loss: 0.0034 - val_accuracy: 1.0000\n",
            "Epoch 7/10\n",
            "54/54 [==============================] - 3s 63ms/step - loss: 0.0028 - accuracy: 1.0000 - val_loss: 0.0023 - val_accuracy: 1.0000\n",
            "Epoch 8/10\n",
            "54/54 [==============================] - 3s 63ms/step - loss: 0.0020 - accuracy: 1.0000 - val_loss: 0.0018 - val_accuracy: 1.0000\n",
            "Epoch 9/10\n",
            "54/54 [==============================] - 3s 62ms/step - loss: 0.0016 - accuracy: 1.0000 - val_loss: 0.0014 - val_accuracy: 1.0000\n",
            "Epoch 10/10\n",
            "54/54 [==============================] - 3s 63ms/step - loss: 0.0013 - accuracy: 1.0000 - val_loss: 0.0012 - val_accuracy: 1.0000\n"
          ],
          "name": "stdout"
        },
        {
          "output_type": "execute_result",
          "data": {
            "text/plain": [
              "[<matplotlib.lines.Line2D at 0x7fb9cf57c438>]"
            ]
          },
          "metadata": {
            "tags": []
          },
          "execution_count": 52
        },
        {
          "output_type": "display_data",
          "data": {
            "image/png": "[encoded data removed]",
            "text/plain": [
              "<Figure size 432x288 with 1 Axes>"
            ]
          },
          "metadata": {
            "tags": [],
            "needs_background": "light"
          }
        }
      ]
    },
    {
      "cell_type": "code",
      "metadata": {
        "id": "VpHDa6p73u5u",
        "colab_type": "code",
        "colab": {
          "base_uri": "https://localhost:8080/",
          "height": 482
        },
        "outputId": "cf3392a7-3b36-4507-fc08-c3e330bfff2b"
      },
      "source": [
        "model = Sequential()\n",
        "model.add(Conv2D(filters=32, kernel_size=(2,2), strides = (1,1), padding = 'same',\n",
        "                 input_shape = (train_x.shape[1],train_x.shape[2],train_x.shape[3])))\n",
        "model.add(Activation('relu'))\n",
        "model.add(MaxPooling2D(pool_size=(2,2)))\n",
        "model.add(Reshape(target_shape=(30*40, 32)))\n",
        "model.add(LSTM(50, return_sequences = True))\n",
        "model.add(LSTM(10))\n",
        "\n",
        "model.add(Dense(10))\n",
        "model.add(Dense(3))\n",
        "model.add(Activation('softmax'))\n",
        "\n",
        "adam = optimizers.Adam(lr = 0.001)\n",
        "model.compile(loss = 'categorical_crossentropy', optimizer = adam, metrics = ['accuracy'])\n",
        "\n",
        "model.summary()"
      ],
      "execution_count": 55,
      "outputs": [
        {
          "output_type": "stream",
          "text": [
            "Model: \"sequential_8\"\n",
            "_________________________________________________________________\n",
            "Layer (type)                 Output Shape              Param #   \n",
            "=================================================================\n",
            "conv2d_8 (Conv2D)            (None, 60, 80, 32)        416       \n",
            "_________________________________________________________________\n",
            "activation_16 (Activation)   (None, 60, 80, 32)        0         \n",
            "_________________________________________________________________\n",
            "max_pooling2d_8 (MaxPooling2 (None, 30, 40, 32)        0         \n",
            "_________________________________________________________________\n",
            "reshape_8 (Reshape)          (None, 1200, 32)          0         \n",
            "_________________________________________________________________\n",
            "lstm_8 (LSTM)                (None, 1200, 50)          16600     \n",
            "_________________________________________________________________\n",
            "lstm_9 (LSTM)                (None, 10)                2440      \n",
            "_________________________________________________________________\n",
            "dense_15 (Dense)             (None, 10)                110       \n",
            "_________________________________________________________________\n",
            "dense_16 (Dense)             (None, 3)                 33        \n",
            "_________________________________________________________________\n",
            "activation_17 (Activation)   (None, 3)                 0         \n",
            "=================================================================\n",
            "Total params: 19,599\n",
            "Trainable params: 19,599\n",
            "Non-trainable params: 0\n",
            "_________________________________________________________________\n"
          ],
          "name": "stdout"
        }
      ]
    },
    {
      "cell_type": "code",
      "metadata": {
        "id": "Mtv8-S3H38zv",
        "colab_type": "code",
        "colab": {
          "base_uri": "https://localhost:8080/",
          "height": 641
        },
        "outputId": "7fa46cbe-474d-463c-91bb-a5430b64de6e"
      },
      "source": [
        "history = model.fit(train_x, train_y, validation_data=(test_x, test_y), epochs=10, batch_size=100, verbose=1)\n",
        "# loss, acc = model.evaluate(test_x, test_y)\n",
        "\n",
        "\n",
        "plt.plot(history.history['loss'],label='train_loss')\n",
        "plt.plot(history.history['val_loss'],label='test_loss')"
      ],
      "execution_count": 56,
      "outputs": [
        {
          "output_type": "stream",
          "text": [
            "Epoch 1/10\n",
            "54/54 [==============================] - 7s 128ms/step - loss: 0.7054 - accuracy: 0.8695 - val_loss: 0.2140 - val_accuracy: 1.0000\n",
            "Epoch 2/10\n",
            "54/54 [==============================] - 6s 110ms/step - loss: 0.0856 - accuracy: 1.0000 - val_loss: 0.0344 - val_accuracy: 1.0000\n",
            "Epoch 3/10\n",
            "54/54 [==============================] - 6s 114ms/step - loss: 0.0214 - accuracy: 1.0000 - val_loss: 0.0132 - val_accuracy: 1.0000\n",
            "Epoch 4/10\n",
            "54/54 [==============================] - 6s 113ms/step - loss: 0.1248 - accuracy: 0.9711 - val_loss: 0.0139 - val_accuracy: 1.0000\n",
            "Epoch 5/10\n",
            "54/54 [==============================] - 6s 115ms/step - loss: 0.0110 - accuracy: 1.0000 - val_loss: 0.0079 - val_accuracy: 1.0000\n",
            "Epoch 6/10\n",
            "54/54 [==============================] - 6s 116ms/step - loss: 0.0063 - accuracy: 1.0000 - val_loss: 0.0051 - val_accuracy: 1.0000\n",
            "Epoch 7/10\n",
            "54/54 [==============================] - 6s 115ms/step - loss: 0.0043 - accuracy: 1.0000 - val_loss: 0.0037 - val_accuracy: 1.0000\n",
            "Epoch 8/10\n",
            "54/54 [==============================] - 6s 117ms/step - loss: 0.0032 - accuracy: 1.0000 - val_loss: 0.0028 - val_accuracy: 1.0000\n",
            "Epoch 9/10\n",
            "54/54 [==============================] - 6s 116ms/step - loss: 0.0025 - accuracy: 1.0000 - val_loss: 0.0023 - val_accuracy: 1.0000\n",
            "Epoch 10/10\n",
            "54/54 [==============================] - 6s 116ms/step - loss: 0.0021 - accuracy: 1.0000 - val_loss: 0.0019 - val_accuracy: 1.0000\n"
          ],
          "name": "stdout"
        },
        {
          "output_type": "execute_result",
          "data": {
            "text/plain": [
              "[<matplotlib.lines.Line2D at 0x7fba629edf98>]"
            ]
          },
          "metadata": {
            "tags": []
          },
          "execution_count": 56
        },
        {
          "output_type": "display_data",
          "data": {
            "image/png": "[encoded data removed]",
            "text/plain": [
              "<Figure size 432x288 with 1 Axes>"
            ]
          },
          "metadata": {
            "tags": [],
            "needs_background": "light"
          }
        }
      ]
    }
  ]
}