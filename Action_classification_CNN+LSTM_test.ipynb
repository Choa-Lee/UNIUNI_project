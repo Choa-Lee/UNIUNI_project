{
  "nbformat": 4,
  "nbformat_minor": 0,
  "metadata": {
    "colab": {
      "name": "Action_classification_CNN+LSTM_test.ipynb",
      "provenance": [],
      "toc_visible": true,
      "mount_file_id": "1Y4SmfzNJOddjcd06UNcRkLdFkqqaRygl",
      "authorship_tag": "ABX9TyOnEXiGATfri3TyV+aZkUOy",
      "include_colab_link": true
    },
    "kernelspec": {
      "name": "python3",
      "display_name": "Python 3"
    }
  },
  "cells": [
    {
      "cell_type": "markdown",
      "metadata": {
        "id": "view-in-github",
        "colab_type": "text"
      },
      "source": [
        "<a href=\"https://colab.research.google.com/github/Choa-Lee/UNIUNI_project/blob/master/Action_classification_CNN%2BLSTM_test.ipynb\" target=\"_parent\"><img src=\"https://colab.research.google.com/assets/colab-badge.svg\" alt=\"Open In Colab\"/></a>"
      ]
    },
    {
      "cell_type": "markdown",
      "metadata": {
        "id": "8X_OeJcrhQ9L",
        "colab_type": "text"
      },
      "source": [
        "# Abnormal action classification using CNN+LSTM\n",
        "## Last revised by cho : 20.08.09"
      ]
    },
    {
      "cell_type": "code",
      "metadata": {
        "id": "fMrTYX6EXqY1",
        "colab_type": "code",
        "colab": {}
      },
      "source": [
        "import os\n",
        "import cv2\n",
        "import glob\n",
        "import numpy as np\n",
        "\n",
        "from tensorflow import keras\n",
        "from keras.models import load_model\n",
        "from keras.utils import np_utils\n",
        "\n",
        "from sklearn.preprocessing import LabelBinarizer\n",
        "from sklearn.model_selection import train_test_split"
      ],
      "execution_count": 1,
      "outputs": []
    },
    {
      "cell_type": "markdown",
      "metadata": {
        "id": "lxYttz6AxK9A",
        "colab_type": "text"
      },
      "source": [
        "## Load model"
      ]
    },
    {
      "cell_type": "code",
      "metadata": {
        "id": "TuX2onbUhmCA",
        "colab_type": "code",
        "colab": {}
      },
      "source": [
        "model_path = '/content/drive/My Drive/WISET/UNI_project/data'\n",
        "os.chdir(model_path)\n",
        "\n",
        "# load model\n",
        "model = load_model('cnn_lstm_model.h5')"
      ],
      "execution_count": 2,
      "outputs": []
    },
    {
      "cell_type": "markdown",
      "metadata": {
        "id": "cNaRHKiErVer",
        "colab_type": "text"
      },
      "source": [
        "## Set the parameteres"
      ]
    },
    {
      "cell_type": "code",
      "metadata": {
        "id": "peULJpATiZLW",
        "colab_type": "code",
        "colab": {}
      },
      "source": [
        "data = []; labels = []\n",
        "\n",
        "Class = ['normal', 'abnormal1', 'abnormal2']\n",
        "\n",
        "class_rep = {}\n",
        "for i,Class in enumerate(Class):\n",
        "  class_rep[i]=Class\n",
        "\n",
        "\n",
        "path = \n",
        "normal_data_path = path+'/label_normal'\n",
        "abnormal1_data_path = path+'/label_abnormal1'\n",
        "abnormal2_data_path = path+'/label_abnormal2'\n",
        "\n",
        "normal_list_jpg = \n",
        "abnormal1_list_jpg = \n",
        "abnormal2_list_jpg = \n"
      ],
      "execution_count": null,
      "outputs": []
    },
    {
      "cell_type": "markdown",
      "metadata": {
        "id": "fSO4-koOrP2A",
        "colab_type": "text"
      },
      "source": [
        "## Load test data"
      ]
    },
    {
      "cell_type": "code",
      "metadata": {
        "id": "Fju4puQyrxe0",
        "colab_type": "code",
        "colab": {}
      },
      "source": [
        "path = os.getcwd()\n",
        "print(path)\n",
        "\n",
        "normal_data_path = path+'/label_normal'\n",
        "abnormal1_data_path = path+'/label_abnormal1'\n",
        "abnormal2_data_path = path+'/label_abnormal2'\n",
        "\n",
        "Class = ['normal', 'abnormal1', 'abnormal2']\n",
        "nClasses = len(Class)"
      ],
      "execution_count": null,
      "outputs": []
    },
    {
      "cell_type": "code",
      "metadata": {
        "id": "iGbHGSqpr3z5",
        "colab_type": "code",
        "colab": {}
      },
      "source": [
        "normal_list = glob.glob(normal_data_path+'/*')\n",
        "normal_list_jpg = [file for file in normal_list if file.endswith(\".jpg\")]\n",
        "\n",
        "abnormal1_list = glob.glob(abnormal1_data_path+'/*')\n",
        "abnormal1_list_jpg = [file for file in abnormal1_list if file.endswith(\".jpg\")]\n",
        "\n",
        "abnormal2_list = glob.glob(abnormal2_data_path+'/*')\n",
        "abnormal2_list_jpg = [file for file in abnormal2_list if file.endswith(\".jpg\")]"
      ],
      "execution_count": 7,
      "outputs": []
    },
    {
      "cell_type": "code",
      "metadata": {
        "id": "sJCZQ8LbsBIY",
        "colab_type": "code",
        "colab": {}
      },
      "source": [
        "print(len(normal_list_jpg))\n",
        "print(len(abnormal1_list_jpg))\n",
        "print(len(abnormal2_list_jpg))\n",
        "print(len(normal_list_jpg) + len(abnormal1_list_jpg) + len(abnormal2_list_jpg))"
      ],
      "execution_count": null,
      "outputs": []
    },
    {
      "cell_type": "code",
      "metadata": {
        "id": "xxBVe7nksDpM",
        "colab_type": "code",
        "colab": {}
      },
      "source": [
        "data = []; labels = []\n",
        "\n",
        "# If you have unbalanced data, use the smallest number of the class\n",
        "nfiles = \n",
        "\n",
        "\n",
        "for image_path in normal_list_jpg:\n",
        "  while len(labels) < int(nfiles):\n",
        "    image = cv2.imread(image_path)\n",
        "    image/255\n",
        "    label = Class[0]\n",
        "\n",
        "    data.append(image)\n",
        "    labels.append(label)\n",
        "\n",
        "print(len(data))\n",
        "print(len(labels))\n",
        "\n",
        "for image_path in abnormal1_list_jpg:\n",
        "  while len(labels) < int(nfiles*2):\n",
        "    image = cv2.imread(image_path)\n",
        "    image/255\n",
        "    label = Class[1]\n",
        "\n",
        "    data.append(image)\n",
        "    labels.append(label)\n",
        "\n",
        "print(len(data))\n",
        "print(len(labels))\n",
        "\n",
        "for image_path in abnormal2_list_jpg:\n",
        "  while len(labels) < int(nfiles*3):\n",
        "    image = cv2.imread(image_path)\n",
        "    image/255\n",
        "    label = Class[2]\n",
        "\n",
        "    data.append(image)\n",
        "    labels.append(label)\n",
        "\n",
        "print(len(data))\n",
        "print(len(labels))"
      ],
      "execution_count": null,
      "outputs": []
    },
    {
      "cell_type": "code",
      "metadata": {
        "id": "nV9nr7rWtXbT",
        "colab_type": "code",
        "colab": {}
      },
      "source": [
        "data = np.array(data)\n",
        "labels = np.array(labels)\n",
        "\n",
        "lb = LabelBinarizer()\n",
        "labels = lb.fit_transform(labels)"
      ],
      "execution_count": 22,
      "outputs": []
    },
    {
      "cell_type": "markdown",
      "metadata": {
        "id": "Dj6GOlHdxkB5",
        "colab_type": "text"
      },
      "source": [
        "## Test"
      ]
    },
    {
      "cell_type": "code",
      "metadata": {
        "id": "y03lIlWfsuXJ",
        "colab_type": "code",
        "colab": {}
      },
      "source": [
        "start = 0\n",
        "end = len(data)\n",
        "div = 10\n",
        "\n",
        "for i in range(start, end, div):\n",
        "  results_tmp = []\n",
        "\n",
        "  data_tmp = data[i:i+div]\n",
        "  pred_result = model.predict(data_tmp)\n",
        "  results_tmp.append(pred_result)\n",
        "  results = np.mean(pred_result, axis=0)\n",
        "\n",
        "  predict_label = np.argmax(results)\n",
        "\n",
        "  if predict_label == 0:\n",
        "    print(Class[0])\n",
        "  elif predict_label == 1:\n",
        "    print(Class[1])\n",
        "  else:\n",
        "    print(Class[2])"
      ],
      "execution_count": null,
      "outputs": []
    }
  ]
}