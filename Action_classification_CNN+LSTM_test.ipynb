{
  "nbformat": 4,
  "nbformat_minor": 0,
  "metadata": {
    "colab": {
      "name": "Action_classification_CNN+LSTM_test.ipynb",
      "provenance": [],
      "toc_visible": true,
      "mount_file_id": "1Y4SmfzNJOddjcd06UNcRkLdFkqqaRygl",
      "authorship_tag": "ABX9TyN8AbL05lCRmpcmp5aUEC/o",
      "include_colab_link": true
    },
    "kernelspec": {
      "name": "python3",
      "display_name": "Python 3"
    }
  },
  "cells": [
    {
      "cell_type": "markdown",
      "metadata": {
        "id": "view-in-github",
        "colab_type": "text"
      },
      "source": [
        "<a href=\"https://colab.research.google.com/github/Choa-Lee/UNIUNI_project/blob/master/Action_classification_CNN%2BLSTM_test.ipynb\" target=\"_parent\"><img src=\"https://colab.research.google.com/assets/colab-badge.svg\" alt=\"Open In Colab\"/></a>"
      ]
    },
    {
      "cell_type": "markdown",
      "metadata": {
        "id": "8X_OeJcrhQ9L",
        "colab_type": "text"
      },
      "source": [
        "# Abnormal action classification using CNN+LSTM\n",
        "## Last revised by cho : 20.08.08"
      ]
    },
    {
      "cell_type": "code",
      "metadata": {
        "id": "fMrTYX6EXqY1",
        "colab_type": "code",
        "colab": {}
      },
      "source": [
        "import os\n",
        "import cv2\n",
        "import numpy as np\n",
        "\n",
        "from tensorflow import keras\n",
        "from keras.models import load_model\n",
        "from keras.utils import np_utils\n",
        "\n",
        "from sklearn.preprocessing import LabelBinarizer\n",
        "from sklearn.model_selection import train_test_split"
      ],
      "execution_count": null,
      "outputs": []
    },
    {
      "cell_type": "code",
      "metadata": {
        "id": "TuX2onbUhmCA",
        "colab_type": "code",
        "colab": {}
      },
      "source": [
        "model_path = '/content/drive/My Drive/WISET/UNI_project/data'\n",
        "os.chdir(model_path)\n",
        "\n",
        "# load model\n",
        "model = load_model('cnn_lstm_model.h5')"
      ],
      "execution_count": null,
      "outputs": []
    },
    {
      "cell_type": "code",
      "metadata": {
        "id": "peULJpATiZLW",
        "colab_type": "code",
        "colab": {}
      },
      "source": [
        "data = []; labels = []\n",
        "\n",
        "# ===============================================================\n",
        "# set the data path and load data to make list\n",
        "Class = ['normal', 'abnormal1', 'abnormal2']\n",
        "\n",
        "class_rep = {}\n",
        "for i,Class in enumerate(Class):\n",
        "  class_rep[i]=Class\n",
        "\n",
        "\n",
        "path = \n",
        "normal_data_path = path+'/label_normal'\n",
        "abnormal1_data_path = path+'/label_abnormal1'\n",
        "abnormal2_data_path = path+'/label_abnormal2'\n",
        "\n",
        "normal_list_jpg = \n",
        "abnormal1_list_jpg = \n",
        "abnormal2_list_jpg = \n",
        "\n",
        "# If you have unbalanced data, use the smallest number of the class\n",
        "nfiles = \n",
        "# ===============================================================\n"
      ],
      "execution_count": null,
      "outputs": []
    },
    {
      "cell_type": "code",
      "metadata": {
        "id": "dM4NMLDNkRF0",
        "colab_type": "code",
        "colab": {}
      },
      "source": [
        "# load data\n",
        "for image_path in normal_list_jpg:\n",
        "  while len(labels) < int(nfiles):\n",
        "    image = cv2.imread(image_path)\n",
        "    image/255\n",
        "    label = Class[0]\n",
        "\n",
        "    data.append(image)\n",
        "    labels.append(label)\n",
        "\n",
        "for image_path in abnormal1_list_jpg:\n",
        "  while len(labels) < int(nfiles*2):\n",
        "    image = cv2.imread(image_path)\n",
        "    image/255\n",
        "    label = Class[1]\n",
        "\n",
        "    data.append(image)\n",
        "    labels.append(label)\n",
        "\n",
        "for image_path in abnormal2_list_jpg:\n",
        "  while len(labels) < int(nfiles*3):\n",
        "    image = cv2.imread(image_path)\n",
        "    image/255\n",
        "    label = Class[2]\n",
        "\n",
        "    data.append(image)\n",
        "    labels.append(label)"
      ],
      "execution_count": null,
      "outputs": []
    },
    {
      "cell_type": "code",
      "metadata": {
        "id": "_O-RR3nakWms",
        "colab_type": "code",
        "colab": {}
      },
      "source": [
        "data = np.array(data)\n",
        "labels = np.array(labels)\n",
        "\n",
        "lb = LabelBinarizer()\n",
        "labels = lb.fit_transform(labels)\n",
        "\n",
        "for i in range(nfiles*3):\n",
        "  pred_result = model.predict(data[i])\n",
        "  result=class_rep[np.argmax(pre_result)]"
      ],
      "execution_count": null,
      "outputs": []
    }
  ]
}