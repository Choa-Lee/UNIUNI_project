{
  "nbformat": 4,
  "nbformat_minor": 0,
  "metadata": {
    "colab": {
      "name": "Action_Classificaion_LSTM.ipynb",
      "provenance": [],
      "toc_visible": true,
      "mount_file_id": "11MM4192SJTAfbwMyibNOWTyKumqM5EGA",
      "authorship_tag": "ABX9TyPK4u/ADDWEm6+sOXjv8zWx",
      "include_colab_link": true
    },
    "kernelspec": {
      "name": "python3",
      "display_name": "Python 3"
    }
  },
  "cells": [
    {
      "cell_type": "markdown",
      "metadata": {
        "id": "view-in-github",
        "colab_type": "text"
      },
      "source": [
        "<a href=\"https://colab.research.google.com/github/Choa-Lee/UNIUNI_project/blob/master/Action_Classificaion_LSTM.ipynb\" target=\"_parent\"><img src=\"https://colab.research.google.com/assets/colab-badge.svg\" alt=\"Open In Colab\"/></a>"
      ]
    },
    {
      "cell_type": "markdown",
      "metadata": {
        "id": "3LD24CQHCD-o",
        "colab_type": "text"
      },
      "source": [
        "#Abnormal action classification using LSTM\n",
        "## Last revised by cho : 20.07.25"
      ]
    },
    {
      "cell_type": "code",
      "metadata": {
        "id": "e9dswv29EeTz",
        "colab_type": "code",
        "colab": {
          "base_uri": "https://localhost:8080/",
          "height": 34
        },
        "outputId": "28f9ffe3-a3cb-452b-bb6f-5fd18142a69a"
      },
      "source": [
        "%cd /content/drive/My Drive/UNI_project/data"
      ],
      "execution_count": null,
      "outputs": [
        {
          "output_type": "stream",
          "text": [
            "/content/drive/My Drive/UNI_project/data\n"
          ],
          "name": "stdout"
        }
      ]
    },
    {
      "cell_type": "code",
      "metadata": {
        "id": "c6_BJVxvBwrZ",
        "colab_type": "code",
        "colab": {
          "base_uri": "https://localhost:8080/",
          "height": 34
        },
        "outputId": "79487cc7-4783-4c9c-d5ed-508876d01b68"
      },
      "source": [
        "!pwd"
      ],
      "execution_count": null,
      "outputs": [
        {
          "output_type": "stream",
          "text": [
            "/content/drive/My Drive/UNI_project/data\n"
          ],
          "name": "stdout"
        }
      ]
    },
    {
      "cell_type": "markdown",
      "metadata": {
        "id": "GHA_WwtFHEuE",
        "colab_type": "text"
      },
      "source": [
        "## Setting Environment"
      ]
    },
    {
      "cell_type": "code",
      "metadata": {
        "id": "0HTzjxZ8E437",
        "colab_type": "code",
        "colab": {}
      },
      "source": [
        "import os\n",
        "import glob\n",
        "import random\n",
        "import shutil\n",
        "import numpy as np\n",
        "import matplotlib\n",
        "import matplotlib.pyplot as plt\n",
        "\n",
        "import cv2\n",
        "from imutils import paths\n",
        "from sklearn.preprocessing import LabelBinarizer\n",
        "from sklearn.model_selection import train_test_split\n",
        "\n",
        "import tensorflow as tf\n",
        "from tensorflow import keras\n",
        "from tensorflow.keras.models import Sequential\n",
        "from tensorflow.keras import optimizers\n",
        "from tensorflow.keras.layers import LSTM, Dropout, Activation"
      ],
      "execution_count": null,
      "outputs": []
    },
    {
      "cell_type": "code",
      "metadata": {
        "id": "sb5LzsurI5-O",
        "colab_type": "code",
        "colab": {}
      },
      "source": [
        "path = '/content/drive/My Drive/UNI_project/data'\n",
        "all_data_path = path+'/img'\n",
        "normal_data_path = path+'/label_normal'\n",
        "abnormal1_data_path = path+'/label_abnormal1'\n",
        "abnormal2_data_path = path+'/label_abnormal2'\n",
        "\n",
        "Class = ['normal', 'abnormal1', 'abnormal2']\n",
        "nClasses = len(Class)"
      ],
      "execution_count": null,
      "outputs": []
    },
    {
      "cell_type": "code",
      "metadata": {
        "id": "umCeBRDkZoHp",
        "colab_type": "code",
        "colab": {}
      },
      "source": [
        "file_list = glob.glob(all_data_path+'/*')\n",
        "file_list_jpg = [file for file in file_list if file.endswith(\".jpg\")]\n",
        "\n",
        "normal_list = glob.glob(normal_data_path+'/*')\n",
        "normal_list_jpg = [file for file in normal_list if file.endswith(\".jpg\")]\n",
        "\n",
        "abnormal1_list = glob.glob(abnormal1_data_path+'/*')\n",
        "abnormal1_list_jpg = [file for file in abnormal1_list if file.endswith(\".jpg\")]\n",
        "\n",
        "abnormal2_list = glob.glob(abnormal2_data_path+'/*')\n",
        "abnormal2_list_jpg = [file for file in abnormal2_list if file.endswith(\".jpg\")]"
      ],
      "execution_count": null,
      "outputs": []
    },
    {
      "cell_type": "code",
      "metadata": {
        "id": "b8FlEykSWI8m",
        "colab_type": "code",
        "colab": {
          "base_uri": "https://localhost:8080/",
          "height": 105
        },
        "outputId": "9295d578-9229-45be-d206-1c57aa3cbbd2"
      },
      "source": [
        "print(len(file_list_jpg))\n",
        "print(len(normal_list_jpg))\n",
        "print(len(abnormal1_list_jpg))\n",
        "print(len(abnormal2_list_jpg))\n",
        "\n",
        "print(len(normal_list_jpg) + len(abnormal1_list_jpg) + len(abnormal2_list_jpg))"
      ],
      "execution_count": null,
      "outputs": [
        {
          "output_type": "stream",
          "text": [
            "11320\n",
            "5488\n",
            "2385\n",
            "3451\n",
            "11324\n"
          ],
          "name": "stdout"
        }
      ]
    },
    {
      "cell_type": "code",
      "metadata": {
        "id": "JOvlWykeSQHX",
        "colab_type": "code",
        "colab": {
          "base_uri": "https://localhost:8080/",
          "height": 34
        },
        "outputId": "a053eb34-3c80-420a-906e-e8d0b7d1c05c"
      },
      "source": [
        "# If you want to copy data from each directories, run this section\n",
        "# or skip it.\n",
        "\n",
        "nfiles=min(len(normal_list_jpg), len(abnormal1_list_jpg), len(abnormal2_list_jpg))\n",
        "min_index = np.argmin([len(normal_list_jpg), len(abnormal1_list_jpg), len(abnormal2_list_jpg)])\n",
        "\n",
        "if nfiles/2 != 0:\n",
        "  nfiles = int(nfiles-1)\n",
        "\n",
        "print(nfiles)\n",
        "\n",
        "if min_index == 0:\n",
        "  source_dir=normal_list_jpg\n",
        "  source_dir1=abnormal1_data_path\n",
        "  source_dir2=abnormal2_data_path\n",
        "elif min_index == 1:\n",
        "  source_dir=abnormal1_list_jpg\n",
        "  source_dir1=normal_data_path\n",
        "  source_dir2=abnormal2_data_path\n",
        "else:\n",
        "  source_dir=abnormal2_list_jpg\n",
        "  source_dir1=normal_data_path\n",
        "  source_dir2=abnormal1_data_path\n",
        "\n",
        "print(source_dir[0])\n",
        "print(source_dir1)\n",
        "print(source_dir2)\n",
        "\n",
        "dest_dir = path+'/dest_dir'\n",
        "!mkdir dest_dir\n",
        "\n",
        "\n",
        "random_file_list1 = []\n",
        "\n",
        "while len(random_file_list1) < int(nfiles/2):\n",
        "  random_file1=random.choice(os.listdir(source_dir1))\n",
        "\n",
        "  fileExt=os.path.splitext(random_file1)[-1]\n",
        "  if fileExt == '.jpg':\n",
        "    random_file_list1.append(random_file1)\n",
        "    random_file_list1 = list(set(random_file_list1))\n",
        "\n",
        "print(len(random_file_list1))\n",
        "\n",
        "random_file_list2 = []\n",
        "\n",
        "while len(random_file_list2) < int(nfiles/2):\n",
        "  random_file2=random.choice(os.listdir(source_dir2))\n",
        "\n",
        "  fileExt=os.path.splitext(random_file2)[-1]\n",
        "  if fileExt == '.jpg':\n",
        "    random_file_list2.append(random_file2)\n",
        "    random_file_list2 = list(set(random_file_list2))\n",
        "\n",
        "print(len(random_file_list2))\n",
        "\n",
        "for i in range(int(nfiles/2)):\n",
        "  source_file = os.path.join(source_dir[i])\n",
        "  source_file1 = os.path.join(source_dir1, random_file_list1[i])\n",
        "  source_file2 = os.path.join(source_dir2, random_file_list2[i])\n",
        "\n",
        "  shutil.copy(source_file, dest_dir)\n",
        "  shutil.copy(source_file1, dest_dir)\n",
        "  shutil.copy(source_file2, dest_dir)"
      ],
      "execution_count": null,
      "outputs": [
        {
          "output_type": "stream",
          "text": [
            "2384\n"
          ],
          "name": "stdout"
        }
      ]
    },
    {
      "cell_type": "markdown",
      "metadata": {
        "id": "5I2Q6QukG-n5",
        "colab_type": "text"
      },
      "source": [
        "# Load Data"
      ]
    },
    {
      "cell_type": "code",
      "metadata": {
        "id": "v-FnFoppE9XA",
        "colab_type": "code",
        "colab": {
          "base_uri": "https://localhost:8080/",
          "height": 122
        },
        "outputId": "44dc18dd-4cc2-4636-b98e-de24143512f2"
      },
      "source": [
        "data = []; labels = []\n",
        "nfiles=2381\n",
        "\n",
        "for image_path in normal_list_jpg:\n",
        "  while len(labels) < int(nfiles):\n",
        "    image = cv2.imread(image_path)\n",
        "    image/255\n",
        "    image=image.reshape(image.shape[0]*image.shape[1],image.shape[2])\n",
        "    label = Class[0]\n",
        "\n",
        "    data.append(image)\n",
        "    labels.append(label)\n",
        "\n",
        "print(len(data))\n",
        "print(len(labels))\n",
        "\n",
        "for image_path in abnormal1_list_jpg:\n",
        "  while len(labels) < int(nfiles*2):\n",
        "    image = cv2.imread(image_path)\n",
        "    image/255\n",
        "    image=image.reshape(image.shape[0]*image.shape[1],image.shape[2])\n",
        "    label = Class[1]\n",
        "\n",
        "    data.append(image)\n",
        "    labels.append(label)\n",
        "\n",
        "print(len(data))\n",
        "print(len(labels))\n",
        "\n",
        "for image_path in abnormal2_list_jpg:\n",
        "  while len(labels) < int(nfiles*3):\n",
        "    image = cv2.imread(image_path)\n",
        "    image/255\n",
        "    image=image.reshape(image.shape[0]*image.shape[1],image.shape[2])\n",
        "    label = Class[2]\n",
        "\n",
        "    data.append(image)\n",
        "    labels.append(label)\n",
        "\n",
        "print(len(data))\n",
        "print(len(labels))\n"
      ],
      "execution_count": null,
      "outputs": [
        {
          "output_type": "stream",
          "text": [
            "2381\n",
            "2381\n",
            "4762\n",
            "4762\n",
            "7143\n",
            "7143\n"
          ],
          "name": "stdout"
        }
      ]
    },
    {
      "cell_type": "code",
      "metadata": {
        "id": "_rGQoVyeK8sc",
        "colab_type": "code",
        "colab": {
          "base_uri": "https://localhost:8080/",
          "height": 70
        },
        "outputId": "e5758088-b245-45aa-ccb3-8a73a4b76ac3"
      },
      "source": [
        "print(len(data))\n",
        "print(len(labels))\n",
        "print(data[0].shape)"
      ],
      "execution_count": null,
      "outputs": [
        {
          "output_type": "stream",
          "text": [
            "7143\n",
            "7143\n",
            "(4800, 3)\n"
          ],
          "name": "stdout"
        }
      ]
    },
    {
      "cell_type": "code",
      "metadata": {
        "id": "E1QqX3tEIXeh",
        "colab_type": "code",
        "colab": {}
      },
      "source": [
        "data = np.array(data)\n",
        "labels = np.array(labels)\n",
        "\n",
        "lb = LabelBinarizer()\n",
        "labels = lb.fit_transform(labels)"
      ],
      "execution_count": null,
      "outputs": []
    },
    {
      "cell_type": "markdown",
      "metadata": {
        "id": "zWxEoPOmyndT",
        "colab_type": "text"
      },
      "source": [
        "#LSTM model building"
      ]
    },
    {
      "cell_type": "markdown",
      "metadata": {
        "id": "n1fZ_9klywXJ",
        "colab_type": "text"
      },
      "source": [
        "## Parameters setting"
      ]
    },
    {
      "cell_type": "code",
      "metadata": {
        "id": "D7IiSxIvzjN2",
        "colab_type": "code",
        "colab": {}
      },
      "source": [
        "test =0.25\n",
        "learning_rate = 0.001\n",
        "epoch = 10\n",
        "batch = 200\n",
        "\n",
        "(trainX, testX, trainY, testY) = train_test_split(data, labels, test_size=test, \n",
        "                                                  stratify=labels, random_state=42)\n",
        "\n",
        "\n",
        "n_unit = 64 #hidden LSTM units\n",
        "n_Samples = trainX.shape[0]\n",
        "n_time_steps = trainX.shape[1]\n",
        "n_features = trainX.shape[2]\n",
        "# n_output = trainY.shape[1]\n",
        "input_shape=(n_time_steps, n_features) #(nSamples, time steps, nFeatures >> 1)\n",
        "batch_input_shape=(n_Samples, n_time_steps, n_features)"
      ],
      "execution_count": null,
      "outputs": []
    },
    {
      "cell_type": "code",
      "metadata": {
        "id": "HQ2FkwMxXVM1",
        "colab_type": "code",
        "colab": {
          "base_uri": "https://localhost:8080/",
          "height": 34
        },
        "outputId": "28199ab0-3276-4eca-8f3d-fa573b2a909c"
      },
      "source": [
        "print(trainX.shape)"
      ],
      "execution_count": null,
      "outputs": [
        {
          "output_type": "stream",
          "text": [
            "(5357, 4800, 3)\n"
          ],
          "name": "stdout"
        }
      ]
    },
    {
      "cell_type": "code",
      "metadata": {
        "id": "1e4wq9jqSn_G",
        "colab_type": "code",
        "colab": {
          "base_uri": "https://localhost:8080/",
          "height": 369
        },
        "outputId": "589447d5-9eb0-48ba-9fd3-055ad68bc7a4"
      },
      "source": [
        "model = Sequential()\n",
        "model.add(LSTM(units=64, input_shape=input_shape, activation='relu', return_sequences=True))\n",
        "# model.add(LSTM(units=10, input_shape=input_shape, activation='relu', return_sequences=True))\n",
        "model.add(LSTM(units=10))\n",
        "model.add(Dropout(0.2))\n",
        "model.add(Dense(10, activation='relu'))\n",
        "# model.add(Dense(10, activation='relu'))\n",
        "model.add(Dense(5, activation='relu'))\n",
        "model.add(Dense(3, activation='softmax'))\n",
        "\n",
        "# model.add(Dense(n_outputs, activation='softmax')\n",
        "model.summary()\n",
        "\n",
        "adam = optimizers.Adam(lr=learning_rate)\n",
        "model.compile(loss='categorical_crossentropy',optimizer=adam, metrics=['accuracy'])#loss='mean_squared_error'\n"
      ],
      "execution_count": null,
      "outputs": [
        {
          "output_type": "stream",
          "text": [
            "Model: \"sequential_19\"\n",
            "_________________________________________________________________\n",
            "Layer (type)                 Output Shape              Param #   \n",
            "=================================================================\n",
            "lstm_52 (LSTM)               (None, 4800, 32)          4608      \n",
            "_________________________________________________________________\n",
            "lstm_53 (LSTM)               (None, 10)                1720      \n",
            "_________________________________________________________________\n",
            "dropout_19 (Dropout)         (None, 10)                0         \n",
            "_________________________________________________________________\n",
            "dense_64 (Dense)             (None, 10)                110       \n",
            "_________________________________________________________________\n",
            "dense_65 (Dense)             (None, 5)                 55        \n",
            "_________________________________________________________________\n",
            "dense_66 (Dense)             (None, 3)                 18        \n",
            "=================================================================\n",
            "Total params: 6,511\n",
            "Trainable params: 6,511\n",
            "Non-trainable params: 0\n",
            "_________________________________________________________________\n"
          ],
          "name": "stdout"
        }
      ]
    },
    {
      "cell_type": "code",
      "metadata": {
        "id": "pdtIMWSEaJHo",
        "colab_type": "code",
        "colab": {
          "base_uri": "https://localhost:8080/",
          "height": 34
        },
        "outputId": "ea9b1974-b850-4f13-8c68-e6c252761176"
      },
      "source": [
        "print(trainX.shape, testX.shape, trainY.shape, testY.shape)"
      ],
      "execution_count": null,
      "outputs": [
        {
          "output_type": "stream",
          "text": [
            "(5357, 4800, 3) (1786, 4800, 3) (5357, 3) (1786, 3)\n"
          ],
          "name": "stdout"
        }
      ]
    },
    {
      "cell_type": "code",
      "metadata": {
        "id": "Gyx2jFmSZnQK",
        "colab_type": "code",
        "colab": {
          "base_uri": "https://localhost:8080/",
          "height": 369
        },
        "outputId": "de1ff984-7f10-402b-a2f9-c524e3350abf"
      },
      "source": [
        "history_lstm = model.fit(trainX, trainY, epochs=10, batch_size=200, verbose=1)"
      ],
      "execution_count": null,
      "outputs": [
        {
          "output_type": "stream",
          "text": [
            "Epoch 1/10\n",
            "27/27 [==============================] - 216s 8s/step - loss: nan - accuracy: 0.3541\n",
            "Epoch 2/10\n",
            "27/27 [==============================] - 212s 8s/step - loss: nan - accuracy: 0.3332\n",
            "Epoch 3/10\n",
            "27/27 [==============================] - 208s 8s/step - loss: nan - accuracy: 0.3332\n",
            "Epoch 4/10\n",
            "27/27 [==============================] - 208s 8s/step - loss: nan - accuracy: 0.3332\n",
            "Epoch 5/10\n",
            "27/27 [==============================] - 212s 8s/step - loss: nan - accuracy: 0.3332\n",
            "Epoch 6/10\n",
            "27/27 [==============================] - 209s 8s/step - loss: nan - accuracy: 0.3332\n",
            "Epoch 7/10\n",
            "27/27 [==============================] - 211s 8s/step - loss: nan - accuracy: 0.3332\n",
            "Epoch 8/10\n",
            "27/27 [==============================] - 209s 8s/step - loss: nan - accuracy: 0.3332\n",
            "Epoch 9/10\n",
            "27/27 [==============================] - 205s 8s/step - loss: nan - accuracy: 0.3332\n",
            "Epoch 10/10\n",
            "27/27 [==============================] - 204s 8s/step - loss: nan - accuracy: 0.3332\n"
          ],
          "name": "stdout"
        }
      ]
    },
    {
      "cell_type": "code",
      "metadata": {
        "id": "2YzWmHioHIKV",
        "colab_type": "code",
        "colab": {
          "base_uri": "https://localhost:8080/",
          "height": 369
        },
        "outputId": "413d79ce-06a9-4851-dccd-589411fe9cb0"
      },
      "source": [
        "model = Sequential()\n",
        "model.add(LSTM(units=64, input_shape=input_shape, activation='relu', return_sequences=True))\n",
        "# model.add(LSTM(units=10, input_shape=input_shape, activation='relu', return_sequences=True))\n",
        "model.add(LSTM(units=10))\n",
        "model.add(Dropout(0.2))\n",
        "model.add(Dense(10, activation='relu'))\n",
        "# model.add(Dense(10, activation='relu'))\n",
        "model.add(Dense(5, activation='relu'))\n",
        "model.add(Dense(3, activation='softmax'))\n",
        "\n",
        "# model.add(Dense(n_outputs, activation='softmax')\n",
        "model.summary()\n",
        "\n",
        "adam = optimizers.Adam(lr=learning_rate)\n",
        "model.compile(loss='categorical_crossentropy',optimizer=adam, metrics=['accuracy'])#loss='mean_squared_error'\n"
      ],
      "execution_count": null,
      "outputs": [
        {
          "output_type": "stream",
          "text": [
            "Model: \"sequential_20\"\n",
            "_________________________________________________________________\n",
            "Layer (type)                 Output Shape              Param #   \n",
            "=================================================================\n",
            "lstm_54 (LSTM)               (None, 4800, 64)          17408     \n",
            "_________________________________________________________________\n",
            "lstm_55 (LSTM)               (None, 10)                3000      \n",
            "_________________________________________________________________\n",
            "dropout_20 (Dropout)         (None, 10)                0         \n",
            "_________________________________________________________________\n",
            "dense_67 (Dense)             (None, 10)                110       \n",
            "_________________________________________________________________\n",
            "dense_68 (Dense)             (None, 5)                 55        \n",
            "_________________________________________________________________\n",
            "dense_69 (Dense)             (None, 3)                 18        \n",
            "=================================================================\n",
            "Total params: 20,591\n",
            "Trainable params: 20,591\n",
            "Non-trainable params: 0\n",
            "_________________________________________________________________\n"
          ],
          "name": "stdout"
        }
      ]
    },
    {
      "cell_type": "code",
      "metadata": {
        "id": "ma4pk2nyHLpZ",
        "colab_type": "code",
        "colab": {
          "base_uri": "https://localhost:8080/",
          "height": 369
        },
        "outputId": "4914209c-c6d4-4aec-eb58-d461662b9c67"
      },
      "source": [
        "history_lstm = model.fit(trainX, trainY, epochs=10, batch_size=200, verbose=1)"
      ],
      "execution_count": null,
      "outputs": [
        {
          "output_type": "stream",
          "text": [
            "Epoch 1/10\n",
            "27/27 [==============================] - 311s 12s/step - loss: nan - accuracy: 0.3332\n",
            "Epoch 2/10\n",
            "27/27 [==============================] - 310s 11s/step - loss: nan - accuracy: 0.3332\n",
            "Epoch 3/10\n",
            "27/27 [==============================] - 307s 11s/step - loss: nan - accuracy: 0.3332\n",
            "Epoch 4/10\n",
            "27/27 [==============================] - 309s 11s/step - loss: nan - accuracy: 0.3332\n",
            "Epoch 5/10\n",
            "27/27 [==============================] - 307s 11s/step - loss: nan - accuracy: 0.3332\n",
            "Epoch 6/10\n",
            "27/27 [==============================] - 310s 11s/step - loss: nan - accuracy: 0.3332\n",
            "Epoch 7/10\n",
            "27/27 [==============================] - 310s 11s/step - loss: nan - accuracy: 0.3332\n",
            "Epoch 8/10\n",
            "27/27 [==============================] - 308s 11s/step - loss: nan - accuracy: 0.3332\n",
            "Epoch 9/10\n",
            "27/27 [==============================] - 305s 11s/step - loss: nan - accuracy: 0.3332\n",
            "Epoch 10/10\n",
            "27/27 [==============================] - 309s 11s/step - loss: nan - accuracy: 0.3332\n"
          ],
          "name": "stdout"
        }
      ]
    },
    {
      "cell_type": "code",
      "metadata": {
        "id": "73zw8TYcHIqB",
        "colab_type": "code",
        "colab": {}
      },
      "source": [
        ""
      ],
      "execution_count": null,
      "outputs": []
    },
    {
      "cell_type": "code",
      "metadata": {
        "id": "AiIsu2qxHItO",
        "colab_type": "code",
        "colab": {}
      },
      "source": [
        ""
      ],
      "execution_count": null,
      "outputs": []
    },
    {
      "cell_type": "code",
      "metadata": {
        "id": "n18f31SQHIkx",
        "colab_type": "code",
        "colab": {}
      },
      "source": [
        ""
      ],
      "execution_count": null,
      "outputs": []
    },
    {
      "cell_type": "code",
      "metadata": {
        "id": "Wpanj8Lg3Zks",
        "colab_type": "code",
        "colab": {}
      },
      "source": [
        "scores = model.evaluate(testX, testY, verbose=1)\n",
        "print('Accuracy: %.2f%%' % (scores[1]*100))\n",
        "\n",
        "y_pred = model.predict(testX)\n",
        "\n",
        "size=\n",
        "Q = deque(maxlen=size)\n",
        "Q.append(y_pred)\n",
        "results = np.array(Q).mean\n",
        "i = np.argmax(results)\n",
        "label = lb[i]\n",
        "\n",
        "\n",
        "y_test_ = np.argmax(testY, axis=1)\n",
        "print(accuracy_score(y_pred, y_test_))"
      ],
      "execution_count": null,
      "outputs": []
    },
    {
      "cell_type": "code",
      "metadata": {
        "id": "C5HilpOm4_sB",
        "colab_type": "code",
        "colab": {}
      },
      "source": [
        "plt.plot(history_lstm.history['loss'])\n",
        "plt.title('Loss')\n",
        "plt.show()"
      ],
      "execution_count": null,
      "outputs": []
    },
    {
      "cell_type": "code",
      "metadata": {
        "id": "qbMgoJF3KQR5",
        "colab_type": "code",
        "colab": {}
      },
      "source": [
        ""
      ],
      "execution_count": null,
      "outputs": []
    },
    {
      "cell_type": "code",
      "metadata": {
        "id": "v3puD8ADKJO5",
        "colab_type": "code",
        "colab": {}
      },
      "source": [
        ""
      ],
      "execution_count": null,
      "outputs": []
    },
    {
      "cell_type": "code",
      "metadata": {
        "id": "5JoFuLZfKJLW",
        "colab_type": "code",
        "colab": {}
      },
      "source": [
        ""
      ],
      "execution_count": null,
      "outputs": []
    },
    {
      "cell_type": "code",
      "metadata": {
        "id": "j7pGNA5yKJIv",
        "colab_type": "code",
        "colab": {}
      },
      "source": [
        ""
      ],
      "execution_count": null,
      "outputs": []
    },
    {
      "cell_type": "code",
      "metadata": {
        "id": "5L1P7U-B4_x2",
        "colab_type": "code",
        "colab": {}
      },
      "source": [
        ""
      ],
      "execution_count": null,
      "outputs": []
    },
    {
      "cell_type": "code",
      "metadata": {
        "id": "1iguoJgaKLEY",
        "colab_type": "code",
        "colab": {}
      },
      "source": [
        ""
      ],
      "execution_count": null,
      "outputs": []
    },
    {
      "cell_type": "code",
      "metadata": {
        "id": "xcbrS3rKK1CK",
        "colab_type": "code",
        "colab": {}
      },
      "source": [
        ""
      ],
      "execution_count": null,
      "outputs": []
    }
  ]
}