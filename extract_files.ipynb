{
  "nbformat": 4,
  "nbformat_minor": 0,
  "metadata": {
    "colab": {
      "name": "extract_files.ipynb",
      "provenance": [],
      "authorship_tag": "ABX9TyMw1afhGS1EE3rjx/B9RxMd",
      "include_colab_link": true
    },
    "kernelspec": {
      "name": "python3",
      "display_name": "Python 3"
    }
  },
  "cells": [
    {
      "cell_type": "markdown",
      "metadata": {
        "id": "view-in-github",
        "colab_type": "text"
      },
      "source": [
        "<a href=\"https://colab.research.google.com/github/Choa-Lee/UNIUNI_project/blob/master/extract_files.ipynb\" target=\"_parent\"><img src=\"https://colab.research.google.com/assets/colab-badge.svg\" alt=\"Open In Colab\"/></a>"
      ]
    },
    {
      "cell_type": "markdown",
      "metadata": {
        "id": "orr054hq9SFn",
        "colab_type": "text"
      },
      "source": [
        "# Extract frames in video(.mp4) to divide train/test data"
      ]
    },
    {
      "cell_type": "code",
      "metadata": {
        "id": "5T3VIgx49VFs",
        "colab_type": "code",
        "colab": {}
      },
      "source": [
        "import csv\n",
        "import glob\n",
        "import os\n",
        "import sys\n",
        "from subprocess import call"
      ],
      "execution_count": 1,
      "outputs": []
    },
    {
      "cell_type": "code",
      "metadata": {
        "id": "-GnnnZER_A4h",
        "colab_type": "code",
        "colab": {}
      },
      "source": [
        "def get_nb_frames_for_video(video_parts):\n",
        "    train_or_test, classname, filename_no_ext, _ = video_parts\n",
        "    generated_files = glob.glob(os.path.join(train_or_test, classname,\n",
        "                                filename_no_ext + '*.jpg'))\n",
        "    return len(generated_files)\n"
      ],
      "execution_count": null,
      "outputs": []
    },
    {
      "cell_type": "code",
      "metadata": {
        "id": "IsrcWleZBcso",
        "colab_type": "code",
        "colab": {}
      },
      "source": [
        "def get_video_parts(video_path):\n",
        "    parts = video_path.split(os.path.sep)\n",
        "    filename = parts[2]\n",
        "    filename_no_ext = filename.split('.')[0]\n",
        "    classname = parts[1]\n",
        "    train_or_test = parts[0]\n",
        "\n",
        "    return train_or_test, classname, filename_no_ext, filename\n"
      ],
      "execution_count": null,
      "outputs": []
    },
    {
      "cell_type": "code",
      "metadata": {
        "id": "0kt0Xp3kBfFD",
        "colab_type": "code",
        "colab": {}
      },
      "source": [
        "def check_already_extracted(video_parts):\n",
        "    train_or_test, classname, filename_no_ext, _ = video_parts\n",
        "    return bool(os.path.exists(os.path.join(train_or_test, classname,\n",
        "                               filename_no_ext + '-0001.jpg')))"
      ],
      "execution_count": null,
      "outputs": []
    },
    {
      "cell_type": "code",
      "metadata": {
        "id": "xn2YlZnV9FOb",
        "colab_type": "code",
        "colab": {}
      },
      "source": [
        "def extract_files(extenssion='mp4'):\n",
        "    #[train|test], class, filename, nb frames\n",
        "    #Extracting can be done with ffmpeg:\n",
        "    #`ffmpeg -i video.mpg image-%04d.jpg`\n",
        "    \n",
        "    data_file = []\n",
        "    folders = ['train', 'test']\n",
        "\n",
        "    for folder in folders:\n",
        "        class_folders = glob.glob(os.path.join(folder, '*'))\n",
        "\n",
        "        for vid_class in class_folders:\n",
        "            class_files = glob.glob(os.path.join(vid_class, '*.' + extenssion))\n",
        "\n",
        "            for video_path in class_files:\n",
        "                # Get the parts of the file.\n",
        "                video_parts = get_video_parts(video_path)\n",
        "\n",
        "                train_or_test, classname, filename_no_ext, filename = video_parts\n",
        "\n",
        "                if not check_already_extracted(video_parts):\n",
        "                    src = os.path.join(train_or_test, classname, filename)\n",
        "                    dest = os.path.join(train_or_test, classname,\n",
        "                        filename_no_ext + '-%04d.jpg')\n",
        "                    call([\"ffmpeg\", \"-i\", src, dest])\n",
        "\n",
        "                nb_frames = get_nb_frames_for_video(video_parts)\n",
        "\n",
        "                data_file.append([train_or_test, classname, filename_no_ext, nb_frames])\n",
        "\n",
        "                print(\"Generated %d frames for %s\" % (nb_frames, filename_no_ext))\n",
        "\n",
        "    with open('data_file.csv', 'w') as fout:\n",
        "        writer = csv.writer(fout)\n",
        "        writer.writerows(data_file)\n",
        "\n",
        "    print('Extracted and wrote %d video files.' % (len(data_file)))"
      ],
      "execution_count": null,
      "outputs": []
    },
    {
      "cell_type": "code",
      "metadata": {
        "id": "V3yu-doW_Q5q",
        "colab_type": "code",
        "colab": {}
      },
      "source": [
        "def main():\n",
        "    #Extract images from videos and make a new file that we can use as our data input file. It can have format:\n",
        "    #[train|test], class, filename, nb frames\n",
        "    \n",
        "    if (len(sys.argv) == 2):\n",
        "        extract_files(sys.argv[1])\n",
        "    else:\n",
        "        print('extract_files.py mp4')\n",
        "\n",
        "if __name__ == '__main__':\n",
        "    main()"
      ],
      "execution_count": null,
      "outputs": []
    },
    {
      "cell_type": "code",
      "metadata": {
        "id": "Am0NestbAxjS",
        "colab_type": "code",
        "colab": {}
      },
      "source": [
        ""
      ],
      "execution_count": null,
      "outputs": []
    }
  ]
}